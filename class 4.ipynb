{
 "cells": [
  {
   "cell_type": "code",
   "execution_count": null,
   "metadata": {},
   "outputs": [],
   "source": [
    "import tkinter as tk\n",
    "from tkinter import ttk\n",
    "from tkinter import *\n",
    "from tkinter import scrolledtext\n",
    "\n",
    "#creating instance\n",
    "win=Tk()\n",
    "#adding textbox\n",
    "name = tk.StringVar()\n",
    "name_entered= tk.Entry(win, width=12, textvariable=name)\n",
    "name_entered.grid(column=0,row=2)\n",
    "#adding function\n",
    "def click_me():\n",
    "    btn.configure(text=\"hello\"+ ' ' + name.get() + ' ' +number_choosen.get())\n",
    "   \n",
    " # mylabel.configure(text=\"9\")\n",
    "#adding button\n",
    "btn=tk.Button(win, text=\"click me\",bg=\"orange\",fg=\"white\",  command=click_me)\n",
    "btn.grid(column=2,row=2)\n",
    "#adding label\n",
    "tk.Label(win, text=\"choose a no\").grid(column=1,row=1)\n",
    "tk.Label(win, text=\"enter a name\").grid(column=0,row=1)\n",
    "#dropdown\n",
    "number= tk.StringVar()\n",
    "number_choosen=ttk.Combobox(win,width=12,textvariable=number)\n",
    "number_choosen['values']=(0,22,44,55,66)\n",
    "number_choosen.grid(column=1, row=2)\n",
    "number_choosen.current(0)\n",
    "name_entered.focus_set()\n",
    "#check box integration class 4\n",
    "#enbale check box\n",
    "ch1en=tk.IntVar()\n",
    "check1=tk.Checkbutton(win, text= \"Enabled\" , variable=ch1en)\n",
    "check1.select()\n",
    "check1.grid(column=1,row=3)\n",
    "#uncheck box\n",
    "ch2un=tk.IntVar()\n",
    "check2=tk.Checkbutton(win, text= \"Unchecked\" , variable=ch2un)\n",
    "check2.deselect()\n",
    "check2.grid(column=0,row=3)\n",
    "#disabled check box\n",
    "ch3dis=tk.IntVar()\n",
    "check3=tk.Checkbutton(win, text= \"disabled\" , variable=ch3dis , state='disabled')\n",
    "check3.deselect()\n",
    "check3.grid(column=2,row=3)\n",
    "\n",
    "#using a scrolled Text controll\n",
    "scroll_w = 30\n",
    "scroll_h = 3\n",
    "scr = scrolledtext.ScrolledText(win, width=scroll_w, height=scroll_h, wrap=tk.WORD)\n",
    "scr.grid(column=0, columnspan=3)\n",
    "\n",
    "name_entered.focus()\n",
    "\n",
    "\n",
    "win.mainloop()"
   ]
  },
  {
   "cell_type": "code",
   "execution_count": null,
   "metadata": {},
   "outputs": [],
   "source": []
  },
  {
   "cell_type": "code",
   "execution_count": null,
   "metadata": {},
   "outputs": [],
   "source": []
  }
 ],
 "metadata": {
  "kernelspec": {
   "display_name": "Python 3",
   "language": "python",
   "name": "python3"
  },
  "language_info": {
   "codemirror_mode": {
    "name": "ipython",
    "version": 3
   },
   "file_extension": ".py",
   "mimetype": "text/x-python",
   "name": "python",
   "nbconvert_exporter": "python",
   "pygments_lexer": "ipython3",
   "version": "3.7.4"
  }
 },
 "nbformat": 4,
 "nbformat_minor": 2
}
